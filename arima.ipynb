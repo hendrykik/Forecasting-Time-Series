{
 "cells": [
  {
   "cell_type": "markdown",
   "id": "641f5171",
   "metadata": {},
   "source": [
    "## Libraries"
   ]
  },
  {
   "cell_type": "code",
   "execution_count": 20,
   "id": "04f6cb8b-634b-4210-a9c7-707f0f1d7b39",
   "metadata": {},
   "outputs": [],
   "source": [
    "import matplotlib\n",
    "matplotlib.use('TkAgg')\n",
    "import pandas as pd\n",
    "import matplotlib.pyplot as plt\n",
    "import numpy as np\n",
    "import math\n",
    "from statsmodels.tsa.stattools import adfuller\n",
    "from statsmodels.graphics.tsaplots import plot_acf, plot_pacf\n",
    "from statsmodels.tsa.arima.model import ARIMA\n",
    "import pmdarima as pm\n",
    "from sklearn.metrics import mean_absolute_error, mean_absolute_percentage_error, mean_squared_error"
   ]
  },
  {
   "cell_type": "markdown",
   "id": "dac6f5ce",
   "metadata": {},
   "source": [
    "## Load the data"
   ]
  },
  {
   "cell_type": "code",
   "execution_count": 3,
   "id": "c94d2c8b-6445-4fab-90bc-b3b4f45fb203",
   "metadata": {},
   "outputs": [
    {
     "name": "stdout",
     "output_type": "stream",
     "text": [
      "Missing values:\n",
      " slug           0\n",
      "symbol         0\n",
      "name           0\n",
      "ranknow        0\n",
      "open           0\n",
      "high           0\n",
      "low            0\n",
      "close          0\n",
      "volume         0\n",
      "market         0\n",
      "close_ratio    0\n",
      "spread         0\n",
      "dtype: int64\n"
     ]
    }
   ],
   "source": [
    "# Load the data\n",
    "data = pd.read_csv('crypto-markets.csv')\n",
    "btc_data = data[data['symbol'] == 'BTC'].copy()\n",
    "btc_data.loc[:, 'date'] = pd.to_datetime(btc_data['date'])\n",
    "btc_data.set_index('date', inplace=True)\n",
    "missing_values = btc_data.isnull().sum()\n",
    "print(\"Missing values:\\n\", missing_values)"
   ]
  },
  {
   "cell_type": "code",
   "execution_count": 4,
   "id": "b857012e-95b2-4444-8b6c-18a777aea87c",
   "metadata": {},
   "outputs": [],
   "source": [
    "# Resample to daily frequency\n",
    "btc_data_daily = btc_data.resample('D').ffill()\n",
    "#print(btc_data_daily)\n",
    "\n",
    "#plt.plot(btc_data.index, btc_data['close'])\n",
    "#plt.show()"
   ]
  },
  {
   "cell_type": "code",
   "execution_count": 5,
   "id": "8c3c3be1-c2be-4a5d-867e-737877d706d0",
   "metadata": {},
   "outputs": [],
   "source": [
    "# Train test split\n",
    "\n",
    "# 1866 records\n",
    "to_row = int(len(btc_data_daily) * 0.9)  # 1679 records\n",
    "\n",
    "training_data = btc_data_daily[0:to_row]['close'] #training data - 1679 rekordów\n",
    "testing_data = btc_data_daily[to_row:]['close'] #testing data - 187 rekordów\n"
   ]
  },
  {
   "cell_type": "code",
   "execution_count": 17,
   "id": "af6cb0fd-64d9-417e-a1ae-46818bbf2803",
   "metadata": {},
   "outputs": [
    {
     "name": "stdout",
     "output_type": "stream",
     "text": [
      "date\n",
      "2013-04-28      134.21\n",
      "2013-04-29      144.54\n",
      "2013-04-30      139.00\n",
      "2013-05-01      116.99\n",
      "2013-05-02      105.21\n",
      "                ...   \n",
      "2017-11-27     9818.35\n",
      "2017-11-28    10058.80\n",
      "2017-11-29     9888.61\n",
      "2017-11-30    10233.60\n",
      "2017-12-01    10975.60\n",
      "Freq: D, Name: close, Length: 1679, dtype: float64\n",
      "1679\n",
      "187\n"
     ]
    }
   ],
   "source": [
    "print(training_data)\n",
    "print(len(training_data))\n",
    "print(len(testing_data))"
   ]
  },
  {
   "cell_type": "code",
   "execution_count": 19,
   "id": "ac51d085-644d-4106-8059-255d8c0dbf09",
   "metadata": {},
   "outputs": [
    {
     "name": "stdout",
     "output_type": "stream",
     "text": [
      "p-value: 1.0\n"
     ]
    }
   ],
   "source": [
    "# Checking for stationarity\n",
    "adf_test = adfuller(training_data)\n",
    "print(f'p-value: {adf_test[1]}')\n"
   ]
  },
  {
   "cell_type": "code",
   "execution_count": 8,
   "id": "4936478b-bfef-437c-8046-6a6311106b40",
   "metadata": {},
   "outputs": [
    {
     "name": "stdout",
     "output_type": "stream",
     "text": [
      "p-value: 0.9556425044957317\n"
     ]
    }
   ],
   "source": [
    "# Differencing till p-value < 0.05\n",
    "#first differencing:\n",
    "df_train_diff = training_data.diff().dropna()\n",
    "adf_test = adfuller(df_train_diff)\n",
    "print(f'p-value: {adf_test[1]}')\n"
   ]
  },
  {
   "cell_type": "code",
   "execution_count": 9,
   "id": "b76185ab-98e9-419f-bafa-2a9edb5f5958",
   "metadata": {},
   "outputs": [
    {
     "name": "stdout",
     "output_type": "stream",
     "text": [
      "p-value: 1.3345829350039024e-24\n"
     ]
    }
   ],
   "source": [
    "#second differencing:\n",
    "df_train_diff = df_train_diff.diff().dropna()\n",
    "adf_test = adfuller(df_train_diff)\n",
    "print(f'p-value: {adf_test[1]}')\n",
    "df_train_diff.plot()\n",
    "plt.show()"
   ]
  },
  {
   "cell_type": "code",
   "execution_count": 22,
   "id": "87a99e46-7b1b-4456-8b44-d6beda6d9b10",
   "metadata": {},
   "outputs": [],
   "source": [
    "# plots for p, q analysis\n",
    "acf_diff = plot_acf(df_train_diff)\n",
    "pacf_diff = plot_pacf(df_train_diff)\n",
    "plt.show()\n"
   ]
  },
  {
   "cell_type": "code",
   "execution_count": 40,
   "id": "f9968b07-76db-4a28-a54a-8b98c57b56d7",
   "metadata": {},
   "outputs": [
    {
     "name": "stdout",
     "output_type": "stream",
     "text": [
      "                               SARIMAX Results                                \n",
      "==============================================================================\n",
      "Dep. Variable:                  close   No. Observations:                 1679\n",
      "Model:                 ARIMA(4, 2, 1)   Log Likelihood               -9611.262\n",
      "Date:                Sun, 28 Apr 2024   AIC                          19234.524\n",
      "Time:                        22:58:20   BIC                          19267.072\n",
      "Sample:                    04-28-2013   HQIC                         19246.581\n",
      "                         - 12-01-2017                                         \n",
      "Covariance Type:                  opg                                         \n",
      "==============================================================================\n",
      "                 coef    std err          z      P>|z|      [0.025      0.975]\n",
      "------------------------------------------------------------------------------\n",
      "ar.L1          0.0711      0.009      7.913      0.000       0.053       0.089\n",
      "ar.L2          0.0025      0.008      0.301      0.763      -0.014       0.019\n",
      "ar.L3          0.0039      0.008      0.515      0.607      -0.011       0.019\n",
      "ar.L4         -0.1093      0.008    -13.036      0.000      -0.126      -0.093\n",
      "ma.L1         -0.9582      0.004   -257.346      0.000      -0.965      -0.951\n",
      "sigma2      5558.2233     49.103    113.195      0.000    5461.983    5654.464\n",
      "===================================================================================\n",
      "Ljung-Box (L1) (Q):                   0.00   Jarque-Bera (JB):             61289.65\n",
      "Prob(Q):                              0.99   Prob(JB):                         0.00\n",
      "Heteroskedasticity (H):              14.50   Skew:                             0.85\n",
      "Prob(H) (two-sided):                  0.00   Kurtosis:                        32.57\n",
      "===================================================================================\n",
      "\n",
      "Warnings:\n",
      "[1] Covariance matrix calculated using the outer product of gradients (complex-step).\n"
     ]
    }
   ],
   "source": [
    "model = ARIMA(training_data, order=(4,2,1))\n",
    "model_fit = model.fit()\n",
    "print(model_fit.summary())"
   ]
  },
  {
   "cell_type": "code",
   "execution_count": 31,
   "id": "9d689c0c-4388-4f0b-a8fd-cae4d30f1585",
   "metadata": {},
   "outputs": [],
   "source": [
    "#Wykonywanie predykcji\n",
    "residuals = model_fit.resid[1:]\n",
    "fig, ax = plt.subplots(1,2)\n",
    "residuals.plot(title='Residuals', ax=ax[0])\n",
    "residuals.plot(title='Density', kind='kde', ax=ax[1])\n",
    "plt.show()"
   ]
  },
  {
   "cell_type": "code",
   "execution_count": 13,
   "id": "6e1e98d8-39da-41b4-a118-e4563d9a91fb",
   "metadata": {},
   "outputs": [],
   "source": [
    "#Sprawdzenie czegos\n",
    "#acf_res = plot_acf(residuals)\n",
    "\n",
    "#pacf_res = plot_pacf(residuals)"
   ]
  },
  {
   "cell_type": "code",
   "execution_count": 33,
   "id": "55e73923-b86e-4965-bfec-136524b4b95c",
   "metadata": {},
   "outputs": [
    {
     "name": "stdout",
     "output_type": "stream",
     "text": [
      "2017-12-02    11158.543366\n",
      "2017-12-03    11349.665897\n",
      "2017-12-04    11485.211388\n",
      "2017-12-05    11571.249882\n",
      "2017-12-06    11714.748549\n",
      "                  ...     \n",
      "2018-06-02    38680.987705\n",
      "2018-06-03    38832.459885\n",
      "2018-06-04    38983.932066\n",
      "2018-06-05    39135.404246\n",
      "2018-06-06    39286.876427\n",
      "Freq: D, Name: predicted_mean, Length: 187, dtype: float64\n"
     ]
    }
   ],
   "source": [
    "#Zaznaczanie predykcji na wykresie\n",
    "forecast_test = model_fit.forecast(len(testing_data))\n",
    "btc_data_daily['close'].plot(label='Original Data')\n",
    "print(forecast_test)\n",
    "\n",
    "plt.plot(testing_data.index, forecast_test, label='Forecasted Data')\n",
    "plt.xlabel('Time')\n",
    "plt.ylabel('Close Value')\n",
    "plt.title('Bitcoin Daily Close Value with Forecast')\n",
    "\n",
    "# Show legend\n",
    "#plt.legend()\n",
    "\n",
    "# Show plot\n",
    "plt.show()"
   ]
  },
  {
   "cell_type": "code",
   "execution_count": 25,
   "id": "775aa3e6-f229-4768-9e62-4672cb9919b7",
   "metadata": {},
   "outputs": [
    {
     "data": {
      "text/html": [
       "<style>#sk-container-id-1 {color: black;background-color: white;}#sk-container-id-1 pre{padding: 0;}#sk-container-id-1 div.sk-toggleable {background-color: white;}#sk-container-id-1 label.sk-toggleable__label {cursor: pointer;display: block;width: 100%;margin-bottom: 0;padding: 0.3em;box-sizing: border-box;text-align: center;}#sk-container-id-1 label.sk-toggleable__label-arrow:before {content: \"▸\";float: left;margin-right: 0.25em;color: #696969;}#sk-container-id-1 label.sk-toggleable__label-arrow:hover:before {color: black;}#sk-container-id-1 div.sk-estimator:hover label.sk-toggleable__label-arrow:before {color: black;}#sk-container-id-1 div.sk-toggleable__content {max-height: 0;max-width: 0;overflow: hidden;text-align: left;background-color: #f0f8ff;}#sk-container-id-1 div.sk-toggleable__content pre {margin: 0.2em;color: black;border-radius: 0.25em;background-color: #f0f8ff;}#sk-container-id-1 input.sk-toggleable__control:checked~div.sk-toggleable__content {max-height: 200px;max-width: 100%;overflow: auto;}#sk-container-id-1 input.sk-toggleable__control:checked~label.sk-toggleable__label-arrow:before {content: \"▾\";}#sk-container-id-1 div.sk-estimator input.sk-toggleable__control:checked~label.sk-toggleable__label {background-color: #d4ebff;}#sk-container-id-1 div.sk-label input.sk-toggleable__control:checked~label.sk-toggleable__label {background-color: #d4ebff;}#sk-container-id-1 input.sk-hidden--visually {border: 0;clip: rect(1px 1px 1px 1px);clip: rect(1px, 1px, 1px, 1px);height: 1px;margin: -1px;overflow: hidden;padding: 0;position: absolute;width: 1px;}#sk-container-id-1 div.sk-estimator {font-family: monospace;background-color: #f0f8ff;border: 1px dotted black;border-radius: 0.25em;box-sizing: border-box;margin-bottom: 0.5em;}#sk-container-id-1 div.sk-estimator:hover {background-color: #d4ebff;}#sk-container-id-1 div.sk-parallel-item::after {content: \"\";width: 100%;border-bottom: 1px solid gray;flex-grow: 1;}#sk-container-id-1 div.sk-label:hover label.sk-toggleable__label {background-color: #d4ebff;}#sk-container-id-1 div.sk-serial::before {content: \"\";position: absolute;border-left: 1px solid gray;box-sizing: border-box;top: 0;bottom: 0;left: 50%;z-index: 0;}#sk-container-id-1 div.sk-serial {display: flex;flex-direction: column;align-items: center;background-color: white;padding-right: 0.2em;padding-left: 0.2em;position: relative;}#sk-container-id-1 div.sk-item {position: relative;z-index: 1;}#sk-container-id-1 div.sk-parallel {display: flex;align-items: stretch;justify-content: center;background-color: white;position: relative;}#sk-container-id-1 div.sk-item::before, #sk-container-id-1 div.sk-parallel-item::before {content: \"\";position: absolute;border-left: 1px solid gray;box-sizing: border-box;top: 0;bottom: 0;left: 50%;z-index: -1;}#sk-container-id-1 div.sk-parallel-item {display: flex;flex-direction: column;z-index: 1;position: relative;background-color: white;}#sk-container-id-1 div.sk-parallel-item:first-child::after {align-self: flex-end;width: 50%;}#sk-container-id-1 div.sk-parallel-item:last-child::after {align-self: flex-start;width: 50%;}#sk-container-id-1 div.sk-parallel-item:only-child::after {width: 0;}#sk-container-id-1 div.sk-dashed-wrapped {border: 1px dashed gray;margin: 0 0.4em 0.5em 0.4em;box-sizing: border-box;padding-bottom: 0.4em;background-color: white;}#sk-container-id-1 div.sk-label label {font-family: monospace;font-weight: bold;display: inline-block;line-height: 1.2em;}#sk-container-id-1 div.sk-label-container {text-align: center;}#sk-container-id-1 div.sk-container {/* jupyter's `normalize.less` sets `[hidden] { display: none; }` but bootstrap.min.css set `[hidden] { display: none !important; }` so we also need the `!important` here to be able to override the default hidden behavior on the sphinx rendered scikit-learn.org. See: https://github.com/scikit-learn/scikit-learn/issues/21755 */display: inline-block !important;position: relative;}#sk-container-id-1 div.sk-text-repr-fallback {display: none;}</style><div id=\"sk-container-id-1\" class=\"sk-top-container\"><div class=\"sk-text-repr-fallback\"><pre> ARIMA(0,2,5)(0,0,0)[0] intercept</pre><b>In a Jupyter environment, please rerun this cell to show the HTML representation or trust the notebook. <br />On GitHub, the HTML representation is unable to render, please try loading this page with nbviewer.org.</b></div><div class=\"sk-container\" hidden><div class=\"sk-item\"><div class=\"sk-estimator sk-toggleable\"><input class=\"sk-toggleable__control sk-hidden--visually\" id=\"sk-estimator-id-1\" type=\"checkbox\" checked><label for=\"sk-estimator-id-1\" class=\"sk-toggleable__label sk-toggleable__label-arrow\">ARIMA</label><div class=\"sk-toggleable__content\"><pre> ARIMA(0,2,5)(0,0,0)[0] intercept</pre></div></div></div></div></div>"
      ],
      "text/plain": [
       "ARIMA(order=(0, 2, 5), scoring_args={}, suppress_warnings=True)"
      ]
     },
     "execution_count": 25,
     "metadata": {},
     "output_type": "execute_result"
    }
   ],
   "source": [
    "auto_arima = pm.auto_arima(training_data, stepwise=False, seasonal=False)\n",
    "auto_arima"
   ]
  },
  {
   "cell_type": "code",
   "execution_count": 26,
   "id": "132e3b54-37a3-4f1f-99e6-6832976211be",
   "metadata": {},
   "outputs": [
    {
     "data": {
      "text/html": [
       "<table class=\"simpletable\">\n",
       "<caption>SARIMAX Results</caption>\n",
       "<tr>\n",
       "  <th>Dep. Variable:</th>           <td>y</td>        <th>  No. Observations:  </th>   <td>1679</td>   \n",
       "</tr>\n",
       "<tr>\n",
       "  <th>Model:</th>           <td>SARIMAX(0, 2, 5)</td> <th>  Log Likelihood     </th> <td>-9608.624</td>\n",
       "</tr>\n",
       "<tr>\n",
       "  <th>Date:</th>            <td>Sun, 28 Apr 2024</td> <th>  AIC                </th> <td>19231.248</td>\n",
       "</tr>\n",
       "<tr>\n",
       "  <th>Time:</th>                <td>22:33:29</td>     <th>  BIC                </th> <td>19269.221</td>\n",
       "</tr>\n",
       "<tr>\n",
       "  <th>Sample:</th>             <td>04-28-2013</td>    <th>  HQIC               </th> <td>19245.315</td>\n",
       "</tr>\n",
       "<tr>\n",
       "  <th></th>                   <td>- 12-01-2017</td>   <th>                     </th>     <td> </td>    \n",
       "</tr>\n",
       "<tr>\n",
       "  <th>Covariance Type:</th>        <td>opg</td>       <th>                     </th>     <td> </td>    \n",
       "</tr>\n",
       "</table>\n",
       "<table class=\"simpletable\">\n",
       "<tr>\n",
       "      <td></td>         <th>coef</th>     <th>std err</th>      <th>z</th>      <th>P>|z|</th>  <th>[0.025</th>    <th>0.975]</th>  \n",
       "</tr>\n",
       "<tr>\n",
       "  <th>intercept</th> <td>    0.0907</td> <td>    0.078</td> <td>    1.169</td> <td> 0.242</td> <td>   -0.061</td> <td>    0.243</td>\n",
       "</tr>\n",
       "<tr>\n",
       "  <th>ma.L1</th>     <td>   -0.8896</td> <td>    0.008</td> <td> -111.974</td> <td> 0.000</td> <td>   -0.905</td> <td>   -0.874</td>\n",
       "</tr>\n",
       "<tr>\n",
       "  <th>ma.L2</th>     <td>   -0.0477</td> <td>    0.012</td> <td>   -4.078</td> <td> 0.000</td> <td>   -0.071</td> <td>   -0.025</td>\n",
       "</tr>\n",
       "<tr>\n",
       "  <th>ma.L3</th>     <td>   -0.0146</td> <td>    0.011</td> <td>   -1.388</td> <td> 0.165</td> <td>   -0.035</td> <td>    0.006</td>\n",
       "</tr>\n",
       "<tr>\n",
       "  <th>ma.L4</th>     <td>   -0.1302</td> <td>    0.011</td> <td>  -12.347</td> <td> 0.000</td> <td>   -0.151</td> <td>   -0.110</td>\n",
       "</tr>\n",
       "<tr>\n",
       "  <th>ma.L5</th>     <td>    0.1210</td> <td>    0.008</td> <td>   14.380</td> <td> 0.000</td> <td>    0.105</td> <td>    0.138</td>\n",
       "</tr>\n",
       "<tr>\n",
       "  <th>sigma2</th>    <td> 5540.6581</td> <td>   49.823</td> <td>  111.207</td> <td> 0.000</td> <td> 5443.007</td> <td> 5638.309</td>\n",
       "</tr>\n",
       "</table>\n",
       "<table class=\"simpletable\">\n",
       "<tr>\n",
       "  <th>Ljung-Box (L1) (Q):</th>     <td>0.00</td>  <th>  Jarque-Bera (JB):  </th> <td>61341.88</td>\n",
       "</tr>\n",
       "<tr>\n",
       "  <th>Prob(Q):</th>                <td>0.95</td>  <th>  Prob(JB):          </th>   <td>0.00</td>  \n",
       "</tr>\n",
       "<tr>\n",
       "  <th>Heteroskedasticity (H):</th> <td>14.37</td> <th>  Skew:              </th>   <td>0.87</td>  \n",
       "</tr>\n",
       "<tr>\n",
       "  <th>Prob(H) (two-sided):</th>    <td>0.00</td>  <th>  Kurtosis:          </th>   <td>32.58</td> \n",
       "</tr>\n",
       "</table><br/><br/>Warnings:<br/>[1] Covariance matrix calculated using the outer product of gradients (complex-step)."
      ],
      "text/latex": [
       "\\begin{center}\n",
       "\\begin{tabular}{lclc}\n",
       "\\toprule\n",
       "\\textbf{Dep. Variable:}          &        y         & \\textbf{  No. Observations:  } &    1679     \\\\\n",
       "\\textbf{Model:}                  & SARIMAX(0, 2, 5) & \\textbf{  Log Likelihood     } & -9608.624   \\\\\n",
       "\\textbf{Date:}                   & Sun, 28 Apr 2024 & \\textbf{  AIC                } & 19231.248   \\\\\n",
       "\\textbf{Time:}                   &     22:33:29     & \\textbf{  BIC                } & 19269.221   \\\\\n",
       "\\textbf{Sample:}                 &    04-28-2013    & \\textbf{  HQIC               } & 19245.315   \\\\\n",
       "\\textbf{}                        &   - 12-01-2017   & \\textbf{                     } &             \\\\\n",
       "\\textbf{Covariance Type:}        &       opg        & \\textbf{                     } &             \\\\\n",
       "\\bottomrule\n",
       "\\end{tabular}\n",
       "\\begin{tabular}{lcccccc}\n",
       "                   & \\textbf{coef} & \\textbf{std err} & \\textbf{z} & \\textbf{P$> |$z$|$} & \\textbf{[0.025} & \\textbf{0.975]}  \\\\\n",
       "\\midrule\n",
       "\\textbf{intercept} &       0.0907  &        0.078     &     1.169  &         0.242        &       -0.061    &        0.243     \\\\\n",
       "\\textbf{ma.L1}     &      -0.8896  &        0.008     &  -111.974  &         0.000        &       -0.905    &       -0.874     \\\\\n",
       "\\textbf{ma.L2}     &      -0.0477  &        0.012     &    -4.078  &         0.000        &       -0.071    &       -0.025     \\\\\n",
       "\\textbf{ma.L3}     &      -0.0146  &        0.011     &    -1.388  &         0.165        &       -0.035    &        0.006     \\\\\n",
       "\\textbf{ma.L4}     &      -0.1302  &        0.011     &   -12.347  &         0.000        &       -0.151    &       -0.110     \\\\\n",
       "\\textbf{ma.L5}     &       0.1210  &        0.008     &    14.380  &         0.000        &        0.105    &        0.138     \\\\\n",
       "\\textbf{sigma2}    &    5540.6581  &       49.823     &   111.207  &         0.000        &     5443.007    &     5638.309     \\\\\n",
       "\\bottomrule\n",
       "\\end{tabular}\n",
       "\\begin{tabular}{lclc}\n",
       "\\textbf{Ljung-Box (L1) (Q):}     &  0.00 & \\textbf{  Jarque-Bera (JB):  } & 61341.88  \\\\\n",
       "\\textbf{Prob(Q):}                &  0.95 & \\textbf{  Prob(JB):          } &   0.00    \\\\\n",
       "\\textbf{Heteroskedasticity (H):} & 14.37 & \\textbf{  Skew:              } &   0.87    \\\\\n",
       "\\textbf{Prob(H) (two-sided):}    &  0.00 & \\textbf{  Kurtosis:          } &  32.58    \\\\\n",
       "\\bottomrule\n",
       "\\end{tabular}\n",
       "%\\caption{SARIMAX Results}\n",
       "\\end{center}\n",
       "\n",
       "Warnings: \\newline\n",
       " [1] Covariance matrix calculated using the outer product of gradients (complex-step)."
      ],
      "text/plain": [
       "<class 'statsmodels.iolib.summary.Summary'>\n",
       "\"\"\"\n",
       "                               SARIMAX Results                                \n",
       "==============================================================================\n",
       "Dep. Variable:                      y   No. Observations:                 1679\n",
       "Model:               SARIMAX(0, 2, 5)   Log Likelihood               -9608.624\n",
       "Date:                Sun, 28 Apr 2024   AIC                          19231.248\n",
       "Time:                        22:33:29   BIC                          19269.221\n",
       "Sample:                    04-28-2013   HQIC                         19245.315\n",
       "                         - 12-01-2017                                         \n",
       "Covariance Type:                  opg                                         \n",
       "==============================================================================\n",
       "                 coef    std err          z      P>|z|      [0.025      0.975]\n",
       "------------------------------------------------------------------------------\n",
       "intercept      0.0907      0.078      1.169      0.242      -0.061       0.243\n",
       "ma.L1         -0.8896      0.008   -111.974      0.000      -0.905      -0.874\n",
       "ma.L2         -0.0477      0.012     -4.078      0.000      -0.071      -0.025\n",
       "ma.L3         -0.0146      0.011     -1.388      0.165      -0.035       0.006\n",
       "ma.L4         -0.1302      0.011    -12.347      0.000      -0.151      -0.110\n",
       "ma.L5          0.1210      0.008     14.380      0.000       0.105       0.138\n",
       "sigma2      5540.6581     49.823    111.207      0.000    5443.007    5638.309\n",
       "===================================================================================\n",
       "Ljung-Box (L1) (Q):                   0.00   Jarque-Bera (JB):             61341.88\n",
       "Prob(Q):                              0.95   Prob(JB):                         0.00\n",
       "Heteroskedasticity (H):              14.37   Skew:                             0.87\n",
       "Prob(H) (two-sided):                  0.00   Kurtosis:                        32.58\n",
       "===================================================================================\n",
       "\n",
       "Warnings:\n",
       "[1] Covariance matrix calculated using the outer product of gradients (complex-step).\n",
       "\"\"\""
      ]
     },
     "execution_count": 26,
     "metadata": {},
     "output_type": "execute_result"
    }
   ],
   "source": [
    "auto_arima.summary()"
   ]
  },
  {
   "cell_type": "code",
   "execution_count": 34,
   "id": "a5cb10c8-caf3-43af-bfc6-fe4771d65f8f",
   "metadata": {},
   "outputs": [],
   "source": [
    "forecast_test_auto = auto_arima.predict(n_periods=len(testing_data))\n",
    "btc_data_daily['close'].plot(label='Original Data')\n",
    "plt.plot(testing_data.index, forecast_test, label='Forecasted Data')\n",
    "plt.plot(testing_data.index, forecast_test_auto, label='Automatically Forecasted Data')\n",
    "plt.xlabel('Time')\n",
    "plt.ylabel('Close Value')\n",
    "plt.legend()\n",
    "plt.show()"
   ]
  },
  {
   "cell_type": "code",
   "execution_count": 36,
   "id": "f1b53a32-77db-4937-8f0e-6d1447ccd5c5",
   "metadata": {},
   "outputs": [
    {
     "name": "stdout",
     "output_type": "stream",
     "text": [
      "mae - manual: 15476.131976143073\n",
      "mape - manual: 1.8006436048088315\n",
      "rmse - manual: 18263.539106652577\n"
     ]
    }
   ],
   "source": [
    "#Błędy dla ustawionej arimy\n",
    "mae = mean_absolute_error(testing_data, forecast_test)\n",
    "mape = mean_absolute_percentage_error(testing_data, forecast_test)\n",
    "rmse = np.sqrt(mean_squared_error(testing_data, forecast_test))\n",
    "\n",
    "print(f'mae - manual: {mae}')\n",
    "print(f'mape - manual: {mape}')\n",
    "print(f'rmse - manual: {rmse}')"
   ]
  },
  {
   "cell_type": "code",
   "execution_count": 29,
   "id": "35a548cc-6926-45d4-b44b-1f3fd39f0c98",
   "metadata": {},
   "outputs": [
    {
     "name": "stdout",
     "output_type": "stream",
     "text": [
      "mae - auto: 15846.159184876356\n",
      "mape - auto: 1.8453252176509347\n",
      "rmse - auto: 18766.820014796584\n"
     ]
    }
   ],
   "source": [
    "#Błędy dla automatycznej arimy\n",
    "mae = mean_absolute_error(testing_data, forecast_test_auto)\n",
    "mape = mean_absolute_percentage_error(testing_data, forecast_test_auto)\n",
    "rmse = np.sqrt(mean_squared_error(testing_data, forecast_test_auto))\n",
    "\n",
    "print(f'mae - auto: {mae}')\n",
    "print(f'mape - auto: {mape}')\n",
    "print(f'rmse - auto: {rmse}')"
   ]
  },
  {
   "cell_type": "code",
   "execution_count": null,
   "id": "b06d06ea-564e-4024-bec0-5b4746b491a9",
   "metadata": {},
   "outputs": [
    {
     "name": "stdout",
     "output_type": "stream",
     "text": [
      "                               SARIMAX Results                                \n",
      "==============================================================================\n",
      "Dep. Variable:                      y   No. Observations:                 1865\n",
      "Model:                 ARIMA(2, 1, 0)   Log Likelihood              -12841.691\n",
      "Date:                Sun, 28 Apr 2024   AIC                          25689.381\n",
      "Time:                        15:09:20   BIC                          25705.973\n",
      "Sample:                             0   HQIC                         25695.495\n",
      "                               - 1865                                         \n",
      "Covariance Type:                  opg                                         \n",
      "==============================================================================\n",
      "                 coef    std err          z      P>|z|      [0.025      0.975]\n",
      "------------------------------------------------------------------------------\n",
      "ar.L1          0.0855      0.005     15.666      0.000       0.075       0.096\n",
      "ar.L2         -0.0470      0.006     -7.311      0.000      -0.060      -0.034\n",
      "sigma2      5.649e+04    399.024    141.572      0.000    5.57e+04    5.73e+04\n",
      "===================================================================================\n",
      "Ljung-Box (L1) (Q):                   0.00   Jarque-Bera (JB):            205709.54\n",
      "Prob(Q):                              0.97   Prob(JB):                         0.00\n",
      "Heteroskedasticity (H):             182.20   Skew:                             1.32\n",
      "Prob(H) (two-sided):                  0.00   Kurtosis:                        54.40\n",
      "===================================================================================\n",
      "\n",
      "Warnings:\n",
      "[1] Covariance matrix calculated using the outer product of gradients (complex-step).\n"
     ]
    }
   ],
   "source": [
    "#Tak robilem najpierw, źle!!!!!!!!!!!!!!!!!!!!!!!\n",
    "from statsmodels.tsa.arima.model import ARIMA\n",
    "# Train test split\n",
    "\n",
    "# 1866 wszystkich wierszy\n",
    "to_row = int(len(btc_data_daily) * 0.9)  # 1679 wierszy\n",
    "\n",
    "training_data = list(btc_data_daily[0:to_row]['close'])\n",
    "testing_data = list(btc_data_daily[to_row:]['close'])\n",
    "\n",
    "model_predictions = []\n",
    "n_test_obs = len(testing_data)\n",
    "\n",
    "for i in range(n_test_obs):\n",
    "    model = ARIMA(training_data, order=(2, 1, 0))\n",
    "    model_fit = model.fit()\n",
    "    output = model_fit.forecast()\n",
    "    yhat = output[0]\n",
    "    model_predictions.append(yhat)\n",
    "    actual_test_value = testing_data[i]\n",
    "    training_data.append(actual_test_value)\n",
    "    #print(output[0])\n",
    "    #break\n",
    "\n",
    "print(model_fit.summary())\n",
    "# Visualization\n",
    "plt.figure(figsize=(15, 9))\n",
    "plt.grid(True)\n",
    "\n",
    "date_range = btc_data_daily[to_row:].index\n",
    "plt.plot(date_range, model_predictions, color='blue', marker='o',linestyle='dashed', label='BTC predicted price')\n",
    "plt.plot(date_range, testing_data, color='red', label='BTC actual')\n",
    "plt.title('Bitcoin price predicition')\n",
    "\n",
    "plt.xlabel('Dates')\n",
    "plt.ylabel('Closing prices')\n",
    "#plt.plot(btc_data_daily[0:to_row]['close'], 'green', label='Train data')\n",
    "#plt.plot(btc_data_daily[to_row:]['close'], 'blue', label='Test data')\n",
    "plt.legend()\n",
    "plt.show()"
   ]
  },
  {
   "cell_type": "code",
   "execution_count": null,
   "id": "b61ab06a-8ac1-4b38-b00e-734281678d75",
   "metadata": {},
   "outputs": [],
   "source": []
  }
 ],
 "metadata": {
  "kernelspec": {
   "display_name": "Python 3 (ipykernel)",
   "language": "python",
   "name": "python3"
  },
  "language_info": {
   "codemirror_mode": {
    "name": "ipython",
    "version": 3
   },
   "file_extension": ".py",
   "mimetype": "text/x-python",
   "name": "python",
   "nbconvert_exporter": "python",
   "pygments_lexer": "ipython3",
   "version": "3.11.7"
  }
 },
 "nbformat": 4,
 "nbformat_minor": 5
}
